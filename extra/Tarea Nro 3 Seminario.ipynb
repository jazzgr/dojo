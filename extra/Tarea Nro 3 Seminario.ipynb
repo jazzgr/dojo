{
 "cells": [
  {
   "cell_type": "markdown",
   "id": "19a5d35e",
   "metadata": {},
   "source": [
    "# Tarea nro.3 \"Verificador de rut\"\n",
    "Integrantes: Ignacio Fernandez, Valentina Casanova, Valentina Concha, Lucas Villaseca\n",
    "# Funciones\n",
    "Aqui definiremos las funciones que ocuparemos"
   ]
  },
  {
   "cell_type": "code",
   "execution_count": 1,
   "id": "b9396729",
   "metadata": {},
   "outputs": [],
   "source": [
    "def rut_checker(rut):#Esta funcion saca el digito verificador a partir de la formula linkeada anteriormente\n",
    "    reversa = map(int, reversed(str(rut))) \n",
    "    serie = cycle(range(2, 8))\n",
    "    s = sum(d * f for d, f in zip(reversa, serie))\n",
    "    return (-s) % 11"
   ]
  },
  {
   "cell_type": "code",
   "execution_count": 2,
   "id": "92173f11",
   "metadata": {},
   "outputs": [],
   "source": [
    "def store_dictionary(diccionario): #Esta función comprueba el diccionario, pone un nombre al archivo .pkl y crea el archivo pkl\n",
    "    #esta funcion debe comprobar si dict es de tipo diccionario / assert\n",
    "    assert (type(diccionario) == dict)\n",
    "    \n",
    "    #nombre del archivo dictionary.pkl\n",
    "    print('sugerencia de nombre del archivo \"dictionary\"')\n",
    "    nom = input('Qué nombre desea ponerle al archivo pkl: ')\n",
    "    #creacion de el archivo pkl\n",
    "    with open(f\"{nom}.pkl\", \"wb\") as tf:\n",
    "        pickle.dump(diccionario,tf)\n",
    "    \n",
    "    #debe imprimir un comentario como \n",
    "    print(f'El diccionario ha sido almacenado como {nom}')\n",
    "\n",
    "    "
   ]
  },
  {
   "cell_type": "markdown",
   "id": "ebffa6c7",
   "metadata": {},
   "source": [
    "# Función Principal\n",
    "Aquí llamamos a las funciones antes definidas y es donde trabajaremos en conjunto con el ususario"
   ]
  },
  {
   "cell_type": "code",
   "execution_count": null,
   "id": "67602c00",
   "metadata": {},
   "outputs": [
    {
     "name": "stdout",
     "output_type": "stream",
     "text": [
      "Desea Corroborar su rut? YES or QUIT= yes\n",
      "Escribe tu rut sin digito verificador= 20829590\n",
      "Escribe tu digito verificador si es K ingrese 10 = 10\n",
      "Tu rut es: 20829590-k\n",
      "Se ha validado con exito su rut,\n",
      " le haremos las siguientes pregunta\n",
      "Ingrese su nombre: kaflñk\n",
      "Ingrese su apellido: ñlfsjalñasf\n",
      "Ingrese su fecha de nacimiento \"dd/mm/aaaa\": kflka\n",
      "Ingrese su Direccion: lñkfs\n",
      "{'PERSONA': {'RUT': '20829590', 'nombre': 'kaflñk', 'apellido': 'ñlfsjalñasf', 'fecha nacimiento': 'kflka', 'direc': 'lñkfs'}}\n",
      "sugerencia de nombre del archivo \"dictionary\"\n",
      "Qué nombre desea ponerle al archivo pkl: dictionary\n",
      "El diccionario ha sido almacenado como dictionary\n"
     ]
    }
   ],
   "source": [
    "from itertools import cycle\n",
    "from datetime import datetime\n",
    "import pickle\n",
    "\n",
    "\n",
    "#DEFINICIÓN DE VARIABLES\n",
    "answer = 0\n",
    "rut = 0 \n",
    "#df = 0\n",
    "verificar = 0\n",
    "nombre = \"\"\n",
    "apellido = \"\"\n",
    "fechnac = 0 \n",
    "direc = \"\"\n",
    "\n",
    "#Bucle infinito preguntar sucesivamente al usuario por su rut y el bucle termina si el usuario introduce la palabra QUIT\n",
    "while True:\n",
    "    answer = input('Desea Corroborar su rut? YES or QUIT= ').upper()\n",
    "    if answer == 'QUIT':\n",
    "        print(\"Usted a decidido salir, Adios\")\n",
    "        break\n",
    "    else:\n",
    "        rut = input('Escribe tu rut sin digito verificador= ')\n",
    "        dg = input('Escribe tu digito verificador si es K ingrese 10 = ')\n",
    "        rut_checker(rut)\n",
    "   \n",
    "    # imprime el rut del usuario\n",
    "    if dg == '10':\n",
    "        print(f\"Tu rut es: {rut}-k\")\n",
    "    else:\n",
    "        print(f\"Tu rut es: {rut}-{dg}\")\n",
    "    \n",
    "    \n",
    "    #verificacion de rut \n",
    "\n",
    "    if int(dg) == rut_checker(rut):\n",
    "        print('Se ha validado con exito su rut,\\n le haremos las siguientes pregunta')\n",
    "        nombre = input('Ingrese su nombre: ')\n",
    "        apellido = input('Ingrese su apellido: ')\n",
    "        fechaNac = input('Ingrese su fecha de nacimiento \"dd/mm/aaaa\": ')\n",
    "        direc = input('Ingrese su Direccion: ')\n",
    "\n",
    "        #Diccionario\n",
    "        chilean_people = {\n",
    "            'PERSONA': {}\n",
    "        }\n",
    "        \n",
    "        #Agregar rut \n",
    "        chilean_people['PERSONA']['RUT'] = rut\n",
    "        #Agregar al diccionario dicrut\n",
    "        chilean_people['PERSONA']['nombre'] = nombre\n",
    "        chilean_people['PERSONA']['apellido'] = apellido\n",
    "        chilean_people['PERSONA']['fecha nacimiento'] = fechaNac\n",
    "        chilean_people['PERSONA']['direc'] = direc\n",
    "        print(chilean_people)\n",
    "\n",
    "        #almacenar el diccionario \n",
    "        store_dictionary(chilean_people)\n",
    "        #cargar diccionario\n",
    "    else:\n",
    "        print('Su rut es incorrecto\\n intentelo otra vez')"
   ]
  }
 ],
 "metadata": {
  "kernelspec": {
   "display_name": "Python 3 (ipykernel)",
   "language": "python",
   "name": "python3"
  },
  "language_info": {
   "codemirror_mode": {
    "name": "ipython",
    "version": 3
   },
   "file_extension": ".py",
   "mimetype": "text/x-python",
   "name": "python",
   "nbconvert_exporter": "python",
   "pygments_lexer": "ipython3",
   "version": "3.9.12"
  }
 },
 "nbformat": 4,
 "nbformat_minor": 5
}
